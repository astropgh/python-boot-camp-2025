{
 "cells": [
  {
   "attachments": {},
   "cell_type": "markdown",
   "metadata": {},
   "source": [
    "# Matplotlib Crash Course"
   ]
  },
  {
   "cell_type": "code",
   "execution_count": null,
   "metadata": {},
   "outputs": [],
   "source": [
    "import matplotlib.pyplot as plt\n",
    "import numpy as np\n",
    "\n",
    "# override my personal default style settings for consistency\n",
    "plt.style.use('default')"
   ]
  },
  {
   "attachments": {},
   "cell_type": "markdown",
   "metadata": {},
   "source": [
    "## Matplotlib Object Hierarchy\n",
    "\n",
    "Matplotlib plots consist of a hierarchy of python objects, and understanding this hierarchy will be essential for customizing your plots.\n",
    "\n",
    "[More details](https://realpython.com/python-matplotlib-guide/#the-matplotlib-object-hierarchy)\n",
    "\n",
    "1. Figure\n",
    "2. Axes\n",
    "3. Axis\n",
    "\n",
    "Most of the customization is done at the `Axes` level even if it is done on a specific `Axis` (e.g., setting the label of the x-axis).\n",
    "\n",
    "<img src=\"fig_map.png\" alt=\"Matplotlib Object Hierarchy\" width=\"600\"/>"
   ]
  },
  {
   "attachments": {},
   "cell_type": "markdown",
   "metadata": {},
   "source": [
    "### Let's start by creating a Figure object (`fig`) and an Axes objects (`ax`)"
   ]
  },
  {
   "cell_type": "code",
   "execution_count": null,
   "metadata": {},
   "outputs": [],
   "source": [
    "fig, ax = plt.subplots()"
   ]
  },
  {
   "cell_type": "code",
   "execution_count": null,
   "metadata": {},
   "outputs": [],
   "source": [
    "type(fig)"
   ]
  },
  {
   "cell_type": "code",
   "execution_count": null,
   "metadata": {},
   "outputs": [],
   "source": [
    "type(ax)"
   ]
  },
  {
   "cell_type": "code",
   "execution_count": null,
   "metadata": {},
   "outputs": [],
   "source": [
    "ax"
   ]
  },
  {
   "attachments": {},
   "cell_type": "markdown",
   "metadata": {},
   "source": [
    "### We can also create multiple Axes objects in the same Figure with `plt.subplots()`."
   ]
  },
  {
   "cell_type": "code",
   "execution_count": null,
   "metadata": {},
   "outputs": [],
   "source": [
    "fig, axes = plt.subplots(ncols=3, nrows=2, figsize=(12, 4))"
   ]
  },
  {
   "attachments": {},
   "cell_type": "markdown",
   "metadata": {},
   "source": [
    "Now `axes` is an Numpy array of Matplotlib `Axes` objects:"
   ]
  },
  {
   "cell_type": "code",
   "execution_count": null,
   "metadata": {},
   "outputs": [],
   "source": [
    "axes"
   ]
  },
  {
   "attachments": {},
   "cell_type": "markdown",
   "metadata": {},
   "source": [
    "### Let's add add data to our Axes.\n",
    "The simplest ways to show data are as a line plot or a scatter plot."
   ]
  },
  {
   "attachments": {},
   "cell_type": "markdown",
   "metadata": {},
   "source": [
    "#### Line plot"
   ]
  },
  {
   "cell_type": "code",
   "execution_count": null,
   "metadata": {},
   "outputs": [],
   "source": [
    "time = np.array([0, 1, 2, 3])\n",
    "papers = np.array([0, 1, 4, 9])\n",
    "\n",
    "fig, ax = plt.subplots()\n",
    "ax.plot(time, papers)"
   ]
  },
  {
   "attachments": {},
   "cell_type": "markdown",
   "metadata": {},
   "source": [
    "#### Scatter Plot"
   ]
  },
  {
   "cell_type": "code",
   "execution_count": null,
   "metadata": {},
   "outputs": [],
   "source": [
    "fig, ax = plt.subplots()\n",
    "ax.scatter(time, papers)"
   ]
  },
  {
   "attachments": {},
   "cell_type": "markdown",
   "metadata": {},
   "source": [
    "## Customizing Our Plot: Anatomy of a Matplotlib Figure\n",
    "\n",
    "We can now create a figure with axes that shows our data, however, we need to include more context so that others will understand our plot. "
   ]
  },
  {
   "attachments": {},
   "cell_type": "markdown",
   "metadata": {},
   "source": [
    "[Anatomy of a Figure (Matplotlib docs)](https://matplotlib.org/stable/gallery/showcase/anatomy.html)\n",
    "\n",
    "<img src=\"fig_anatomy.png\" alt=\"Anatomy of a Figure\" width=\"600\"/>"
   ]
  },
  {
   "attachments": {},
   "cell_type": "markdown",
   "metadata": {},
   "source": [
    "### Exercise 1\n",
    "Add an x-axis label, a y-axis label, and a title to our Axes by using its `set_<property>` methods, where `<property>` is `xlabel`, `ylabel`, or `title` (e.g., `ax.set_xlabel('time')`).\n",
    "\n"
   ]
  },
  {
   "cell_type": "code",
   "execution_count": null,
   "metadata": {},
   "outputs": [],
   "source": [
    "fig, ax = plt.subplots()\n",
    "ax.scatter(time, papers)\n",
    "\n",
    "### ADD CODE HERE ###\n",
    "\n",
    "#####################"
   ]
  },
  {
   "attachments": {},
   "cell_type": "markdown",
   "metadata": {},
   "source": [
    "### Exercise 2\n",
    "Matplotlib does a good job of automatically adjusting the x and y limits to show our data, but often we will want to customize these limits. Try setting the `xlim` to go from -0.5 to 6 and the `ylim` to go from -0.5 to 40."
   ]
  },
  {
   "cell_type": "code",
   "execution_count": null,
   "metadata": {},
   "outputs": [],
   "source": [
    "fig, ax = plt.subplots()\n",
    "ax.scatter(time, papers)\n",
    "\n",
    "### ADD CODE HERE ###\n",
    "\n",
    "#####################"
   ]
  },
  {
   "attachments": {},
   "cell_type": "markdown",
   "metadata": {},
   "source": [
    "## Exercise 3\n",
    "\n",
    "We will often want to change which ticks appear on an axis and alter their styling (e.g., fontsize). Try setting the yticks to be 1, 3, 5 (using `ax.set_yticks`) and then changing their labels (to be other numbers or strings) and increasing the fontsize to 20."
   ]
  },
  {
   "cell_type": "code",
   "execution_count": null,
   "metadata": {},
   "outputs": [],
   "source": [
    "fig, ax = plt.subplots()\n",
    "ax.scatter(time, papers)\n",
    "\n",
    "### ADD CODE HERE ###\n",
    "\n",
    "#####################\n"
   ]
  },
  {
   "attachments": {},
   "cell_type": "markdown",
   "metadata": {},
   "source": [
    "Often we will want to show multiple data sets to make comparisons."
   ]
  },
  {
   "cell_type": "code",
   "execution_count": null,
   "metadata": {},
   "outputs": [],
   "source": [
    "talks = np.array([1, 2, 6, 15])\n",
    "\n",
    "fig, ax = plt.subplots()\n",
    "ax.scatter(time, papers)\n",
    "ax.scatter(time, talks)"
   ]
  },
  {
   "attachments": {},
   "cell_type": "markdown",
   "metadata": {},
   "source": [
    "## Exercise 4\n",
    "Add a legend to help the reader distinguish between data sets by labeling each data set (using the `label` keyword argument in `ax.scatter()`) and then creating a legend with the `legend()` method of Axes."
   ]
  },
  {
   "cell_type": "code",
   "execution_count": null,
   "metadata": {},
   "outputs": [],
   "source": [
    "fig, ax = plt.subplots()\n",
    "\n",
    "### ADD CODE HERE ###\n",
    "\n",
    "#######################"
   ]
  },
  {
   "attachments": {},
   "cell_type": "markdown",
   "metadata": {},
   "source": [
    "## Exercise 5\n",
    "\n",
    "Make a two panel (one above the other) plot with one panel showing papers vs. time and the other showing talks vs. time.  If you can, try to set the y-limits to be the same (-1, 16) for each panel using a for-loop over `axes`."
   ]
  },
  {
   "cell_type": "code",
   "execution_count": null,
   "metadata": {},
   "outputs": [],
   "source": [
    "### ADD CODE HERE ###\n",
    "\n",
    "########################"
   ]
  },
  {
   "attachments": {},
   "cell_type": "markdown",
   "metadata": {},
   "source": [
    "## Exercise 6\n",
    "Save your beautiful plot using `savefig()`."
   ]
  },
  {
   "cell_type": "code",
   "execution_count": null,
   "metadata": {},
   "outputs": [],
   "source": [
    "fig, ax = plt.subplots()\n",
    "ax.scatter(time, papers)\n",
    "\n",
    "### ADD CODE HERE ###\n",
    "\n",
    "######################"
   ]
  },
  {
   "attachments": {},
   "cell_type": "markdown",
   "metadata": {},
   "source": [
    "### Real Data\n",
    "Now that we're getting comfortable with making plots with our simple data set, let's load a real data set to explore some fun visualizations for a large data set."
   ]
  },
  {
   "cell_type": "code",
   "execution_count": null,
   "metadata": {},
   "outputs": [],
   "source": [
    "# load the data\n",
    "import pandas as pd\n",
    "data = pd.read_csv('dr14_dwarfs_data.csv')\n",
    "teff = data['Teff'].values\n",
    "logg = data['log(g)'].values\n",
    "feh = data['[Fe/H]'].values"
   ]
  },
  {
   "attachments": {},
   "cell_type": "markdown",
   "metadata": {},
   "source": [
    "Let's plot the data"
   ]
  },
  {
   "cell_type": "code",
   "execution_count": null,
   "metadata": {},
   "outputs": [],
   "source": [
    "fig, ax = plt.subplots()\n",
    "ax.scatter(teff, logg)\n",
    "\n",
    "ax.plot([5000, 3500], [3.5, 1])\n",
    "\n",
    "ax.set_xlabel('Teff [K]')\n",
    "ax.set_ylabel('log(g)')\n",
    "\n",
    "# we'll invert the axis directions because that is how Kiel diagrams are usually shown\n",
    "ax.invert_xaxis()\n",
    "ax.invert_yaxis()"
   ]
  },
  {
   "attachments": {},
   "cell_type": "markdown",
   "metadata": {},
   "source": [
    "### Styling Scatter Plots\n"
   ]
  },
  {
   "attachments": {},
   "cell_type": "markdown",
   "metadata": {},
   "source": [
    "## Exercise 7\n",
    "\n",
    "Change the color (using the `c` or `color` or `facecolor` keyword) of the points to red and reduce their size (using the `s` keyword) to 0.1. Then change the color (using the `c` or `color` keyword) of the line to black and set its thickness (using the `lw` or `linewidth`) to 2."
   ]
  },
  {
   "cell_type": "code",
   "execution_count": null,
   "metadata": {},
   "outputs": [],
   "source": [
    "fig, ax = plt.subplots()\n",
    "\n",
    "### ADD CODE HERE ###\n",
    "\n",
    "#####################\n",
    "\n",
    "ax.set_xlabel('Teff [K]')\n",
    "ax.set_ylabel('log(g)')\n",
    "\n",
    "ax.invert_xaxis()\n",
    "ax.invert_yaxis()"
   ]
  },
  {
   "attachments": {},
   "cell_type": "markdown",
   "metadata": {},
   "source": [
    "### Colormaps"
   ]
  },
  {
   "attachments": {},
   "cell_type": "markdown",
   "metadata": {},
   "source": [
    "## Exercise 8\n",
    "We can color-code the points by a 3rd variable by setting the color to be that variable (in this case use `feh`).  We then need to make a colorbar using `fig.colorbar()`, where we need to pass in the scatter object that has the colored data points, so we first need to assign that to a variable (in this case I've used `p`). Finally, set the label of the color bar."
   ]
  },
  {
   "cell_type": "code",
   "execution_count": null,
   "metadata": {},
   "outputs": [],
   "source": [
    "fig, ax = plt.subplots()\n",
    "\n",
    "### ADD CODE HERE ###\n",
    "\n",
    "#####################\n",
    "\n",
    "ax.set_xlabel('Teff [K]')\n",
    "ax.set_ylabel('log(g)')\n",
    "\n",
    "ax.invert_xaxis()\n",
    "ax.invert_yaxis()"
   ]
  },
  {
   "attachments": {},
   "cell_type": "markdown",
   "metadata": {},
   "source": [
    "## Exercise 9\n",
    "\n",
    "Hmmm...the limits on metallicity ([Fe/H]) should really be more like -2.5 to 1, so let's use the `vmin` and `vmax` keywords in `ax.scatter()` to limit the range.\n",
    "\n",
    "Note: the Sun's metallicity is 0 by definition and [Fe/H] is on a log10 scale."
   ]
  },
  {
   "cell_type": "code",
   "execution_count": null,
   "metadata": {},
   "outputs": [],
   "source": [
    "fig, ax = plt.subplots()\n",
    "\n",
    "### ADD CODE HERE ###\n",
    "\n",
    "#####################\n",
    "\n",
    "ax.set_xlabel('Teff [K]')\n",
    "ax.set_ylabel('log(g)')\n",
    "\n",
    "ax.invert_xaxis()\n",
    "ax.invert_yaxis()"
   ]
  },
  {
   "attachments": {},
   "cell_type": "markdown",
   "metadata": {},
   "source": [
    "#### 1-D Histograms\n",
    "\n",
    "Let's inspect our data set by making a histogram of the surface gravities (`logg`)."
   ]
  },
  {
   "cell_type": "code",
   "execution_count": null,
   "metadata": {},
   "outputs": [],
   "source": [
    "fig, ax = plt.subplots()\n",
    "cnt, bin_edges, patches = ax.hist(logg)"
   ]
  },
  {
   "attachments": {},
   "cell_type": "markdown",
   "metadata": {},
   "source": [
    "`ax.hist()` returns 3 objects:\n",
    "1. the count in each bin (`cnt`)\n",
    "2. the bin edges (`bin_edges`)\n",
    "3. the individual rectangles that make up the histogram (`patches`), which we will ignore"
   ]
  },
  {
   "attachments": {},
   "cell_type": "markdown",
   "metadata": {},
   "source": [
    "## Exercise 10\n",
    "\n",
    "Make a histogram with 100 bins."
   ]
  },
  {
   "cell_type": "code",
   "execution_count": null,
   "metadata": {},
   "outputs": [],
   "source": [
    "fig, ax = plt.subplots()\n",
    "\n",
    "### ADD CODE HERE ###\n",
    "\n",
    "#####################"
   ]
  },
  {
   "attachments": {},
   "cell_type": "markdown",
   "metadata": {},
   "source": [
    "## Exercise 11\n",
    "Make a 2-D histogram (`ax.hist2d()`) of the Teff and log(g) data to show the density of stars in this space.  Try using 100 bins in each dimension. `ax.hist2d()` will return 4 objects: 2-D array of counts, x bin edges, y bin edges, and the image.  Finally, add a labeled colorbar."
   ]
  },
  {
   "cell_type": "code",
   "execution_count": null,
   "metadata": {},
   "outputs": [],
   "source": [
    "fig, ax = plt.subplots()\n",
    "\n",
    "### ADD CODE HERE ###\n",
    "\n",
    "#####################\n",
    "\n",
    "ax.set_xlabel('Teff [K]')\n",
    "ax.set_ylabel('log(g)')\n",
    "\n",
    "ax.invert_xaxis()\n",
    "ax.invert_yaxis()"
   ]
  },
  {
   "attachments": {},
   "cell_type": "markdown",
   "metadata": {},
   "source": [
    "Aha! In 2-D we can clearly see that the peak in the 1-D histogram at `logg` ~ 4.3 is a superposition of dwarf stars at all temperatures.  However, the peak in the 1-D histogram at `logg` ~ 2.8 is localized in temperature.  These stars are known as \"red clump\" stars. They have already ascended the red giant branch (the sequence from the center to the upper right) and are now burning He in their cores, so they form the reddest part of the horizontal branch."
   ]
  },
  {
   "attachments": {},
   "cell_type": "markdown",
   "metadata": {},
   "source": [
    "## Exercise 12\n",
    "Let's try two different ways of showing a variable with a log scaling using a histogram of `teff`.  First, try taking the log10 (`np.log10()`) of the variable and plotting this new variable (remember to change the axis label).  Second, we will plot the histogram in linear scale and set the scale of the x-axis as log afterwards (using `ax.set_xscale('log')`)."
   ]
  },
  {
   "cell_type": "code",
   "execution_count": null,
   "metadata": {},
   "outputs": [],
   "source": [
    "fig, axes = plt.subplots(ncols=2, figsize=(10, 4))\n",
    "\n",
    "# left: take log of variable\n",
    "### ADD CODE HERE ###\n",
    "\n",
    "#####################\n",
    "\n",
    "\n",
    "# right: change the x-axis to log scale\n",
    "axes[1].hist(teff, bins=100)\n",
    "axes[1].set_xlabel('Teff [K]')\n",
    "\n",
    "### ADD CODE HERE ###\n",
    "\n",
    "#####################"
   ]
  },
  {
   "cell_type": "code",
   "execution_count": null,
   "metadata": {},
   "outputs": [],
   "source": []
  }
 ],
 "metadata": {
  "kernelspec": {
   "display_name": "Python 3 (ipykernel)",
   "language": "python",
   "name": "python3"
  },
  "language_info": {
   "codemirror_mode": {
    "name": "ipython",
    "version": 3
   },
   "file_extension": ".py",
   "mimetype": "text/x-python",
   "name": "python",
   "nbconvert_exporter": "python",
   "pygments_lexer": "ipython3",
   "version": "3.12.3"
  }
 },
 "nbformat": 4,
 "nbformat_minor": 4
}
