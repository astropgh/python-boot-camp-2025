{
 "cells": [
  {
   "cell_type": "code",
   "execution_count": null,
   "metadata": {},
   "outputs": [],
   "source": [
    "import numpy as np\n",
    "from matplotlib import pyplot as plt\n",
    "%matplotlib inline"
   ]
  },
  {
   "cell_type": "markdown",
   "metadata": {},
   "source": [
    "In this exercise, we're going to build a 3-dimensional model of a galaxy, F($\\lambda$, x, y) with both a stellar component and a (very simple) active galactic nucleus. To start, let's load in the galaxy spectrum from spectrum.npy and a simple Gaussian representing the [OIII] doublet, which you might see from an active galactic nucleus."
   ]
  },
  {
   "cell_type": "code",
   "execution_count": null,
   "metadata": {},
   "outputs": [],
   "source": [
    "wave, stellar_spec = np.load('spectrum.npy')\n",
    "wave, agn_spec = np.load('gaussian.npy')\n",
    "\n",
    "print('Shape of the Spectrum:', np.shape(stellar_spec))\n",
    "\n",
    "fig, ax = plt.subplots(figsize=(5,5))\n",
    "ax.plot(wave, stellar_spec)\n",
    "ax.plot(wave, agn_spec)\n",
    "ax.set_xlabel('Wavelength [Angstroms]', fontsize=15)\n",
    "ax.set_ylabel('Flux [Arbitrary]', fontsize=15)\n",
    "plt.show()"
   ]
  },
  {
   "cell_type": "markdown",
   "metadata": {},
   "source": [
    "The above cell shows the flux as a function of the wavelength for starlight (blue) and the AGN (orange), but in real galaxies, these won't be coming from the same physical location. In fact, the AGN will be significantly smaller than the galaxy, only emitting at the center. To approximate this, let's imagine that both the galaxy and the AGN are two dimensional Gaussians, with the galaxy being 100 times wider than the AGN."
   ]
  },
  {
   "cell_type": "code",
   "execution_count": null,
   "metadata": {},
   "outputs": [],
   "source": [
    "x, y = np.meshgrid(np.linspace(-10, 10, 50), np.linspace(-10,10, 50))\n",
    "radius = np.sqrt(x**2 + y**2)\n",
    "\n",
    "sigma_galaxy = 10\n",
    "sigma_agn = 0.1\n",
    "\n",
    "stellar_profile = np.exp(-radius**2 / sigma_galaxy**2)\n",
    "agn_profile = np.exp(-radius**2 / sigma_agn)\n",
    "\n",
    "print('Shape of the Stellar Profile:', np.shape(stellar_profile))\n",
    "\n",
    "fig, ax = plt.subplots(1, 2, figsize=(10,5))\n",
    "ax[0].imshow(stellar_profile, origin='lower', extent=[-10,10, -10, 10])\n",
    "ax[0].set_title('Stellar', fontsize=18)\n",
    "\n",
    "ax[1].imshow(agn_profile, origin='lower', extent=[-10,10, -10, 10])\n",
    "ax[1].set_title('AGN', fontsize=18)\n",
    "plt.show()"
   ]
  },
  {
   "cell_type": "markdown",
   "metadata": {},
   "source": [
    "As you can see, we've created a 2D array for both the stellar light and the AGN light, and the AGN light is much more centrally concentrated. Now, we want to add a third dimension for the light as a function of the wavelength, which we can do by creating an array and broadcasting to multiply the new array of ones by the stellar and AGN spectrum. One we have that, let's plot the collapsed cubes by taking the mean along the wavelength direction. Why don't these have any features?"
   ]
  },
  {
   "cell_type": "code",
   "execution_count": null,
   "metadata": {},
   "outputs": [],
   "source": [
    "stellar_cube = np.ones((len(stellar_spec),np.shape(stellar_profile)[0], \n",
    "                        np.shape(stellar_profile)[1])) * stellar_spec[:,np.newaxis, np.newaxis]\n",
    "\n",
    "agn_cube = np.ones((len(agn_spec), np.shape(agn_profile)[0], \n",
    "                    np.shape(agn_profile)[1])) * agn_spec[:,np.newaxis,np.newaxis]\n",
    "\n",
    "print('Shape of the new cube:', np.shape(stellar_cube))\n",
    "\n",
    "fig, ax = plt.subplots(1, 2, figsize=(10,5))\n",
    "\n",
    "ax[0].imshow(np.mean(stellar_cube, axis=0), extent=[-10,10,-10,10])\n",
    "ax[0].set_title('Collapsed Stellar Spectrum', fontsize=18)\n",
    "\n",
    "ax[1].imshow(np.mean(agn_cube, axis=0), extent=[-10,10,-10,10])\n",
    "ax[1].set_title('Collapsed AGN Spectrum', fontsize=15)\n",
    "\n",
    "plt.show()"
   ]
  },
  {
   "cell_type": "markdown",
   "metadata": {},
   "source": [
    "Now that we have 3D cubes with the spectra, it's time to apply the galaxy and AGN profiles. To do this, we're going to multiply the stellar and agn cubes with the two dimensional profiles that represent the shapes. Once we do this, let's take the mean along the wavelength direction again and show the 2D profiles."
   ]
  },
  {
   "cell_type": "code",
   "execution_count": null,
   "metadata": {},
   "outputs": [],
   "source": [
    "stellar_cube_scaled = stellar_cube * stellar_profile\n",
    "agn_cube_scaled = agn_cube * agn_profile\n",
    "\n",
    "print('Shape of the scaled cube:', np.shape(stellar_cube_scaled))\n",
    "\n",
    "fig, ax = plt.subplots(1, 2, figsize=(10,5))\n",
    "\n",
    "ax[0].imshow(np.mean(stellar_cube_scaled, axis=0), extent=[-10,10,-10,10])\n",
    "ax[0].set_title('Collapsed Stellar Spectrum', fontsize=18)\n",
    "\n",
    "ax[1].imshow(np.mean(agn_cube_scaled, axis=0), extent=[-10,10,-10,10])\n",
    "ax[1].set_title('Collapsed AGN Spectrum', fontsize=18)\n",
    "plt.show()"
   ]
  },
  {
   "cell_type": "markdown",
   "metadata": {},
   "source": [
    "Let's take a look at a few different locations of the galaxy. Plot both the galaxy and AGN flux as a function of wavelength at the location 0,0 (25,25 in pixel coordinates) and -10, -10 (0,0) in pixel coordinates. Try doing this by grabbing the whole slice in the wavelength axis (the 0th axis as we have it set up) and the location we're after in the other two dimensions."
   ]
  },
  {
   "cell_type": "code",
   "execution_count": null,
   "metadata": {},
   "outputs": [],
   "source": [
    "#####YOUR CODE HERE\n",
    "spectrum_stellar_center = stellar_cube_scaled[]\n",
    "spectrum_agn_center = agn_cube_scaled[]\n",
    "\n",
    "spectrum_stellar_corner = stellar_cube_scaled[]\n",
    "spectrum_agn_corner = agn_cube_scaled[]\n",
    "\n",
    "fig, ax = plt.subplots(figsize=(5,5))\n",
    "ax.plot(wave, spectrum_stellar_center)\n",
    "ax.plot(wave, spectrum_agn_center)\n",
    "ax.set_xlabel('Wavelength [Angstroms]', fontsize=15)\n",
    "ax.set_ylabel('Flux [Arbitrary]', fontsize=15)\n",
    "plt.show()\n",
    "\n",
    "fig, ax = plt.subplots(figsize=(5,5))\n",
    "ax.plot(wave, spectrum_stellar_corner)\n",
    "ax.plot(wave, spectrum_agn_corner)\n",
    "ax.set_xlabel('Wavelength [Angstroms]', fontsize=15)\n",
    "ax.set_ylabel('Flux [Arbitrary]', fontsize=15)\n",
    "plt.show()"
   ]
  },
  {
   "cell_type": "markdown",
   "metadata": {},
   "source": [
    "We now have 3D representations for the wavelength and flux dimensions of the two components of the galaxy. The last thing to do is combine them by adding them together; let's do that in the cell below. Afterwards, let's plot the 2D collapsed mean of our new total galaxy spectrum."
   ]
  },
  {
   "cell_type": "code",
   "execution_count": null,
   "metadata": {},
   "outputs": [],
   "source": [
    "total_galaxy = stellar_cube_scaled + agn_cube_scaled\n",
    "\n",
    "fig, ax = plt.subplots(figsize=(5,5))\n",
    "ax.imshow(np.mean(total_galaxy, axis=0), extent=[-10,10,-10,10])\n",
    "ax.set_title('Total Galaxy', fontsize=18)\n",
    "plt.show()"
   ]
  },
  {
   "cell_type": "markdown",
   "metadata": {},
   "source": [
    "That doesn't look very different... but what if we only plot the mean flux between 5005 and 5009 angstroms, where [OIII] is the strongest? Try to do that in the cell below, and then do some other slice further away from that (let's say 5100 angstroms)"
   ]
  },
  {
   "cell_type": "code",
   "execution_count": null,
   "metadata": {},
   "outputs": [],
   "source": [
    "#YOUR CODE HERE\n",
    "where_agn = np.where()\n",
    "\n",
    "total_galaxy_5007 = total_galaxy[where_agn]\n",
    "\n",
    "fig, ax = plt.subplots(figsize=(5,5))\n",
    "ax.imshow(np.mean(total_galaxy_5007, axis=0), extent=[-10,10,-10,10])\n",
    "ax.set_title('Total Galaxy (5007 Angstroms)', fontsize=18)\n",
    "plt.show()\n",
    "\n",
    "#YOUR CODE HERE\n",
    "where_not_agn = np.where()\n",
    "\n",
    "total_galaxy_not_AGN = total_galaxy[where_not_agn]\n",
    "\n",
    "\n",
    "fig, ax = plt.subplots(figsize=(5,5))\n",
    "ax.imshow(np.mean(total_galaxy_not_AGN, axis=0), extent=[-10,10,-10,10])\n",
    "ax.set_title('Total Galaxy (Somewhere Else)', fontsize=18)\n",
    "plt.show()"
   ]
  },
  {
   "cell_type": "code",
   "execution_count": null,
   "metadata": {},
   "outputs": [],
   "source": []
  },
  {
   "cell_type": "code",
   "execution_count": null,
   "metadata": {},
   "outputs": [],
   "source": []
  }
 ],
 "metadata": {
  "kernelspec": {
   "display_name": "Python 3",
   "language": "python",
   "name": "python3"
  },
  "language_info": {
   "codemirror_mode": {
    "name": "ipython",
    "version": 3
   },
   "file_extension": ".py",
   "mimetype": "text/x-python",
   "name": "python",
   "nbconvert_exporter": "python",
   "pygments_lexer": "ipython3",
   "version": "3.8.5"
  }
 },
 "nbformat": 4,
 "nbformat_minor": 4
}
